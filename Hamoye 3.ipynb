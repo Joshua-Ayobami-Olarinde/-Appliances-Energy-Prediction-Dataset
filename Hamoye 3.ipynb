{
 "cells": [
  {
   "cell_type": "code",
   "execution_count": 1,
   "id": "9866d7c2",
   "metadata": {},
   "outputs": [
    {
     "name": "stdout",
     "output_type": "stream",
     "text": [
      "0.2635658914728682\n"
     ]
    }
   ],
   "source": [
    "\"\"\"\n",
    "From the confusion matrix, we are given the following:\n",
    "TP = 255\n",
    "FP = 1380\n",
    "FN = 45\n",
    "TN = 20\n",
    "\"\"\"\n",
    "\n",
    "# precsion  = TP/TP + FP \n",
    "\n",
    "precision = 255/(255 + 1380)\n",
    "\n",
    "# Calculate Recall  TP/(TP + FN)\n",
    "recall = 255/(255 + 45)\n",
    "\n",
    "# compute the F1 score\n",
    "f1 = 2*(precision*recall)/(precision + recall)\n",
    "\n",
    "print(f1)"
   ]
  },
  {
   "cell_type": "code",
   "execution_count": 2,
   "id": "ab6d7710",
   "metadata": {},
   "outputs": [],
   "source": [
    "import numpy as np\n",
    "import pandas as pd\n",
    "import seaborn as sns\n",
    "import matplotlib.pyplot as plt\n",
    "from sklearn.model_selection import train_test_split\n",
    "from sklearn.model_selection import cross_val_score\n",
    "import xgboost, lightgbm\n",
    "from xgboost import XGBClassifier\n",
    "from lightgbm import LGBMClassifier\n",
    "from sklearn.tree import DecisionTreeClassifier, ExtraTreeClassifier\n",
    "from sklearn.ensemble import AdaBoostClassifier, ExtraTreesClassifier, RandomForestClassifier\n",
    "from sklearn.metrics import accuracy_score, f1_score, precision_score, recall_score, confusion_matrix\n",
    "from sklearn.model_selection import RandomizedSearchCV\n",
    "from sklearn.preprocessing import StandardScaler"
   ]
  },
  {
   "cell_type": "code",
   "execution_count": 3,
   "id": "8556487d",
   "metadata": {},
   "outputs": [
    {
     "data": {
      "text/html": [
       "<div>\n",
       "<style scoped>\n",
       "    .dataframe tbody tr th:only-of-type {\n",
       "        vertical-align: middle;\n",
       "    }\n",
       "\n",
       "    .dataframe tbody tr th {\n",
       "        vertical-align: top;\n",
       "    }\n",
       "\n",
       "    .dataframe thead th {\n",
       "        text-align: right;\n",
       "    }\n",
       "</style>\n",
       "<table border=\"1\" class=\"dataframe\">\n",
       "  <thead>\n",
       "    <tr style=\"text-align: right;\">\n",
       "      <th></th>\n",
       "      <th>tau1</th>\n",
       "      <th>tau2</th>\n",
       "      <th>tau3</th>\n",
       "      <th>tau4</th>\n",
       "      <th>p1</th>\n",
       "      <th>p2</th>\n",
       "      <th>p3</th>\n",
       "      <th>p4</th>\n",
       "      <th>g1</th>\n",
       "      <th>g2</th>\n",
       "      <th>g3</th>\n",
       "      <th>g4</th>\n",
       "      <th>stab</th>\n",
       "      <th>stabf</th>\n",
       "    </tr>\n",
       "  </thead>\n",
       "  <tbody>\n",
       "    <tr>\n",
       "      <th>0</th>\n",
       "      <td>2.959060</td>\n",
       "      <td>3.079885</td>\n",
       "      <td>8.381025</td>\n",
       "      <td>9.780754</td>\n",
       "      <td>3.763085</td>\n",
       "      <td>-0.782604</td>\n",
       "      <td>-1.257395</td>\n",
       "      <td>-1.723086</td>\n",
       "      <td>0.650456</td>\n",
       "      <td>0.859578</td>\n",
       "      <td>0.887445</td>\n",
       "      <td>0.958034</td>\n",
       "      <td>0.055347</td>\n",
       "      <td>unstable</td>\n",
       "    </tr>\n",
       "    <tr>\n",
       "      <th>1</th>\n",
       "      <td>9.304097</td>\n",
       "      <td>4.902524</td>\n",
       "      <td>3.047541</td>\n",
       "      <td>1.369357</td>\n",
       "      <td>5.067812</td>\n",
       "      <td>-1.940058</td>\n",
       "      <td>-1.872742</td>\n",
       "      <td>-1.255012</td>\n",
       "      <td>0.413441</td>\n",
       "      <td>0.862414</td>\n",
       "      <td>0.562139</td>\n",
       "      <td>0.781760</td>\n",
       "      <td>-0.005957</td>\n",
       "      <td>stable</td>\n",
       "    </tr>\n",
       "    <tr>\n",
       "      <th>2</th>\n",
       "      <td>8.971707</td>\n",
       "      <td>8.848428</td>\n",
       "      <td>3.046479</td>\n",
       "      <td>1.214518</td>\n",
       "      <td>3.405158</td>\n",
       "      <td>-1.207456</td>\n",
       "      <td>-1.277210</td>\n",
       "      <td>-0.920492</td>\n",
       "      <td>0.163041</td>\n",
       "      <td>0.766689</td>\n",
       "      <td>0.839444</td>\n",
       "      <td>0.109853</td>\n",
       "      <td>0.003471</td>\n",
       "      <td>unstable</td>\n",
       "    </tr>\n",
       "  </tbody>\n",
       "</table>\n",
       "</div>"
      ],
      "text/plain": [
       "       tau1      tau2      tau3      tau4        p1        p2        p3  \\\n",
       "0  2.959060  3.079885  8.381025  9.780754  3.763085 -0.782604 -1.257395   \n",
       "1  9.304097  4.902524  3.047541  1.369357  5.067812 -1.940058 -1.872742   \n",
       "2  8.971707  8.848428  3.046479  1.214518  3.405158 -1.207456 -1.277210   \n",
       "\n",
       "         p4        g1        g2        g3        g4      stab     stabf  \n",
       "0 -1.723086  0.650456  0.859578  0.887445  0.958034  0.055347  unstable  \n",
       "1 -1.255012  0.413441  0.862414  0.562139  0.781760 -0.005957    stable  \n",
       "2 -0.920492  0.163041  0.766689  0.839444  0.109853  0.003471  unstable  "
      ]
     },
     "execution_count": 3,
     "metadata": {},
     "output_type": "execute_result"
    }
   ],
   "source": [
    "df = pd.read_csv(r'C:\\filestore_PP\\Data_for_UCI_named.csv')\n",
    "df.head(3)"
   ]
  },
  {
   "cell_type": "code",
   "execution_count": 4,
   "id": "4e325503",
   "metadata": {},
   "outputs": [
    {
     "data": {
      "text/plain": [
       "unstable    6380\n",
       "stable      3620\n",
       "Name: stabf, dtype: int64"
      ]
     },
     "execution_count": 4,
     "metadata": {},
     "output_type": "execute_result"
    }
   ],
   "source": [
    "df.stabf.value_counts()"
   ]
  },
  {
   "cell_type": "code",
   "execution_count": 5,
   "id": "68b5a8e9",
   "metadata": {},
   "outputs": [],
   "source": [
    "# Split the dataset\n",
    "X = df.drop(columns=['stab', 'stabf'])\n",
    "y = df['stabf']"
   ]
  },
  {
   "cell_type": "code",
   "execution_count": 6,
   "id": "f9df9edb",
   "metadata": {},
   "outputs": [],
   "source": [
    "# Split data into train and test\n",
    "X_train, X_test, y_train, y_test = train_test_split(X, y, test_size=0.2, random_state=1)"
   ]
  },
  {
   "cell_type": "code",
   "execution_count": 7,
   "id": "6e7e5d50",
   "metadata": {},
   "outputs": [],
   "source": [
    "# Scale the data with Standard Scaler\n",
    "scale = StandardScaler()\n",
    "scaled_x_train = pd.DataFrame(scale.fit_transform(X_train), columns=(X_train.columns))\n",
    "scaled_x_test = pd.DataFrame(scale.fit_transform(X_test), columns=(X_test.columns))"
   ]
  },
  {
   "cell_type": "code",
   "execution_count": 8,
   "id": "871d5754",
   "metadata": {},
   "outputs": [
    {
     "name": "stdout",
     "output_type": "stream",
     "text": [
      "Accuracy score of RandomForestClassifier in 4 decimal places is 0.928\n"
     ]
    }
   ],
   "source": [
    "rf = RandomForestClassifier(random_state = 1)\n",
    "rf.fit(scaled_x_train, y_train)\n",
    "rf_pred = rf.predict(scaled_x_test)\n",
    "print(f'Accuracy score of RandomForestClassifier in 4 decimal places is {round(accuracy_score(y_test, rf_pred), 4)}')"
   ]
  },
  {
   "cell_type": "code",
   "execution_count": 9,
   "id": "90db92ec",
   "metadata": {},
   "outputs": [],
   "source": [
    "xgb = XGBClassifier(random_state = 1)\n",
    "xgb.fit(scaled_x_train, y_train)\n",
    "xgb_pred = xgb.predict(scaled_x_test)\n",
    "print(f'Accuracy score of XGBClassifier in 4 decimal places is {round(accuracy_score(y_test, xgb_pred), 4)}')"
   ]
  },
  {
   "cell_type": "markdown",
   "id": "2e9be848",
   "metadata": {},
   "source": [
    "Accuracy score of XGBClassifier in 4 decimal places is 0.919"
   ]
  },
  {
   "cell_type": "code",
   "execution_count": 10,
   "id": "1947c22f",
   "metadata": {
    "scrolled": true
   },
   "outputs": [
    {
     "name": "stdout",
     "output_type": "stream",
     "text": [
      "Accuracy score of LGBMClassifier in 4 decimal places is 0.9365\n"
     ]
    }
   ],
   "source": [
    "lgc = LGBMClassifier(random_state=1)\n",
    "lgc.fit(scaled_x_train, y_train)\n",
    "lgc_pred = lgc.predict(scaled_x_test)\n",
    "print(f'Accuracy score of LGBMClassifier in 4 decimal places is {round(accuracy_score(y_test, lgc_pred), 4)}')"
   ]
  },
  {
   "cell_type": "code",
   "execution_count": 11,
   "id": "d35bd74f",
   "metadata": {},
   "outputs": [
    {
     "name": "stdout",
     "output_type": "stream",
     "text": [
      "Fitting 5 folds for each of 10 candidates, totalling 50 fits\n"
     ]
    },
    {
     "data": {
      "text/plain": [
       "RandomizedSearchCV(cv=5, estimator=ExtraTreesClassifier(), n_jobs=-1,\n",
       "                   param_distributions={'max_features': ['auto', 'sqrt', 'log2',\n",
       "                                                         None],\n",
       "                                        'min_samples_leaf': [2, 4, 6, 8],\n",
       "                                        'min_samples_split': [2, 5, 7, 9],\n",
       "                                        'n_estimators': [100, 300, 500, 1000]},\n",
       "                   random_state=1, scoring='accuracy', verbose=1)"
      ]
     },
     "execution_count": 11,
     "metadata": {},
     "output_type": "execute_result"
    }
   ],
   "source": [
    "n_estimators = [100, 300, 500, 1000]\n",
    "\n",
    "min_samples_split = [2, 5, 7, 9]\n",
    "\n",
    "min_samples_leaf = [2, 4, 6, 8]\n",
    "\n",
    "max_features = ['auto', 'sqrt', 'log2', None] \n",
    "\n",
    "# Define the param grid\n",
    "hyperparameter_grid = {'n_estimators': n_estimators,\n",
    "\n",
    "                       'min_samples_leaf': min_samples_leaf,\n",
    "\n",
    "                       'min_samples_split': min_samples_split,\n",
    "\n",
    "                       'max_features': max_features}\n",
    "\n",
    "\n",
    "ext = ExtraTreesClassifier()\n",
    "# instantiate the gridsearch\n",
    "randomised_search = RandomizedSearchCV(ext, param_distributions= hyperparameter_grid,\n",
    "                                       scoring='accuracy',\n",
    "                                       n_iter=10,\n",
    "                                       cv=5,\n",
    "                                       n_jobs=-1,\n",
    "                                       verbose=1,\n",
    "                                       random_state=1)\n",
    "\n",
    "# fit the grid with training set\n",
    "randomised_search.fit(scaled_x_train, y_train)"
   ]
  },
  {
   "cell_type": "code",
   "execution_count": 12,
   "id": "f618bfaa",
   "metadata": {},
   "outputs": [
    {
     "data": {
      "text/plain": [
       "{'n_estimators': 100,\n",
       " 'min_samples_split': 7,\n",
       " 'min_samples_leaf': 4,\n",
       " 'max_features': None}"
      ]
     },
     "execution_count": 12,
     "metadata": {},
     "output_type": "execute_result"
    }
   ],
   "source": [
    "# Get the best hyperparameters\n",
    "randomised_search.best_params_"
   ]
  },
  {
   "cell_type": "code",
   "execution_count": 13,
   "id": "f03c4e02",
   "metadata": {},
   "outputs": [
    {
     "name": "stdout",
     "output_type": "stream",
     "text": [
      "old accuracy score is 0.9285\n",
      "............................................................................................................\n",
      "New Accuracy score is 0.926\n"
     ]
    }
   ],
   "source": [
    "# Compute the old accuracy\n",
    "ext.fit(scaled_x_train, y_train)\n",
    "\n",
    "old_acc_score = round(accuracy_score(y_test, ext.predict(scaled_x_test)), 4)\n",
    "print(f'old accuracy score is {old_acc_score}')\n",
    "\n",
    "print('............................................................................................................')\n",
    "\n",
    "# Get the model with new hyperparameters from the randomsearchcv\n",
    "rand_for = randomised_search.best_estimator_\n",
    "\n",
    "# Train a new ExtraTree model with new hyparameters\n",
    "rand_for.fit(scaled_x_train, y_train)\n",
    "\n",
    "# make new predictions\n",
    "new_p = rand_for.predict(scaled_x_test)\n",
    "\n",
    "# Compute new accuracy score\n",
    "print(f'New Accuracy score is {round(accuracy_score(y_test, new_p), 4)}')"
   ]
  },
  {
   "cell_type": "code",
   "execution_count": 14,
   "id": "1d3d15f0",
   "metadata": {},
   "outputs": [
    {
     "data": {
      "text/plain": [
       "Text(0.5, 1.0, 'Feature Importance')"
      ]
     },
     "execution_count": 14,
     "metadata": {},
     "output_type": "execute_result"
    },
    {
     "data": {
      "image/png": "[encoded data removed]",
      "text/plain": [
       "<Figure size 576x360 with 1 Axes>"
      ]
     },
     "metadata": {
      "needs_background": "light"
     },
     "output_type": "display_data"
    }
   ],
   "source": [
    "feature_importance = rand_for.feature_importances_\n",
    "feature_dict = dict(zip(X.columns, list(feature_importance)))\n",
    "\n",
    "plt.figure(figsize=(8,5))\n",
    "plt.xticks(rotation = 90)\n",
    "\n",
    "feature_import_df = pd.DataFrame(feature_dict, index=[0])\n",
    "\n",
    "sns.barplot(data=feature_import_df)\n",
    "plt.title(\"Feature Importance\")\n"
   ]
  },
  {
   "cell_type": "code",
   "execution_count": null,
   "id": "27f4e2a7",
   "metadata": {},
   "outputs": [],
   "source": []
  },
  {
   "cell_type": "code",
   "execution_count": null,
   "id": "8fb3028c",
   "metadata": {},
   "outputs": [],
   "source": []
  }
 ],
 "metadata": {
  "kernelspec": {
   "display_name": "Python 3 (ipykernel)",
   "language": "python",
   "name": "python3"
  },
  "language_info": {
   "codemirror_mode": {
    "name": "ipython",
    "version": 3
   },
   "file_extension": ".py",
   "mimetype": "text/x-python",
   "name": "python",
   "nbconvert_exporter": "python",
   "pygments_lexer": "ipython3",
   "version": "3.9.7"
  }
 },
 "nbformat": 4,
 "nbformat_minor": 5
}
